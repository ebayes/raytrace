{
 "cells": [
  {
   "cell_type": "code",
   "execution_count": 1,
   "metadata": {},
   "outputs": [],
   "source": [
    "import os\n",
    "import pandas as pd"
   ]
  },
  {
   "cell_type": "code",
   "execution_count": 2,
   "metadata": {},
   "outputs": [],
   "source": [
    "# Define the DSM file and the list of image files\n",
    "input_dir = \"./input\"\n",
    "dsm = f\"{input_dir}/coata_dsm.tif\"\n",
    "images_dir = f\"{input_dir}/images\"\n",
    "\n",
    "# List all jpg images in the images directory\n",
    "images = [f\"{images_dir}/{image}\" for image in os.listdir(images_dir) if image.endswith((\".jpg\", \".JPG\"))]\n"
   ]
  },
  {
   "cell_type": "code",
   "execution_count": 3,
   "metadata": {},
   "outputs": [
    {
     "name": "stdout",
     "output_type": "stream",
     "text": [
      "ERROR with ./input/images/DJI_20240430105726_0098_D.JPG, make HASSELBLAD not compatible with this program!\n",
      "skipping ./input/images/DJI_20240430105726_0098_D.JPG\n",
      "ERROR with ./input/images/DJI_20240430112812_0138_D.JPG, make HASSELBLAD not compatible with this program!\n",
      "skipping ./input/images/DJI_20240430112812_0138_D.JPG\n",
      "ERROR: resolveTarget ran out of bounds at -1.4846, -59.7882, 81.7538m\n",
      "ERROR: Please ensure target location is within GeoTIFF dataset bounds\n",
      "ERROR with ./input/images/DJI_20240430104720_0080_D.JPG, make HASSELBLAD not compatible with this program!\n",
      "skipping ./input/images/DJI_20240430104720_0080_D.JPG\n",
      "ERROR with ./input/images/DJI_20240430112135_0126_D.JPG, make HASSELBLAD not compatible with this program!\n",
      "skipping ./input/images/DJI_20240430112135_0126_D.JPG\n",
      "ERROR with ./input/images/DJI_20240430104503_0075_D.JPG, make HASSELBLAD not compatible with this program!\n",
      "skipping ./input/images/DJI_20240430104503_0075_D.JPG\n",
      "ERROR with ./input/images/DJI_20240430105741_0099_D.JPG, make HASSELBLAD not compatible with this program!\n",
      "skipping ./input/images/DJI_20240430105741_0099_D.JPG\n",
      "ERROR with ./input/images/DJI_20240430104220_0071_D.JPG, make HASSELBLAD not compatible with this program!\n",
      "skipping ./input/images/DJI_20240430104220_0071_D.JPG\n",
      "ERROR with ./input/images/DJI_20240430112257_0128_D.JPG, make HASSELBLAD not compatible with this program!\n",
      "skipping ./input/images/DJI_20240430112257_0128_D.JPG\n",
      "ERROR: resolveTarget failed, bad sensor or elevation data.\n",
      "Initial drone altitude: 88m, terrain altitude: 95m\n",
      "This image is unusable.\n",
      "ERROR: resolveTarget failed, bad sensor or elevation data.\n",
      "Initial drone altitude: 89m, terrain altitude: 95m\n",
      "This image is unusable.\n",
      "ERROR: resolveTarget ran out of bounds at -1.4846, -59.788, 81.8695m\n",
      "ERROR: Please ensure target location is within GeoTIFF dataset bounds\n",
      "ERROR with ./input/images/DJI_20240430104416_0074_D.JPG, make HASSELBLAD not compatible with this program!\n",
      "skipping ./input/images/DJI_20240430104416_0074_D.JPG\n",
      "ERROR with ./input/images/DJI_20240430105240_0091_D.JPG, make HASSELBLAD not compatible with this program!\n",
      "skipping ./input/images/DJI_20240430105240_0091_D.JPG\n",
      "ERROR with ./input/images/DJI_20240430110306_0106_D.JPG, make HASSELBLAD not compatible with this program!\n",
      "skipping ./input/images/DJI_20240430110306_0106_D.JPG\n",
      "ERROR: resolveTarget failed, bad sensor or elevation data.\n",
      "Initial drone altitude: 75m, terrain altitude: 81m\n",
      "This image is unusable.\n",
      "ERROR with ./input/images/DJI_20240430110138_0105_D.JPG, make HASSELBLAD not compatible with this program!\n",
      "skipping ./input/images/DJI_20240430110138_0105_D.JPG\n",
      "ERROR: resolveTarget ran out of bounds at -1.4846, -59.7859, 74.8408m\n",
      "ERROR: Please ensure target location is within GeoTIFF dataset bounds\n",
      "ERROR with ./input/images/DJI_20240430112554_0136_D.JPG, make HASSELBLAD not compatible with this program!\n",
      "skipping ./input/images/DJI_20240430112554_0136_D.JPG\n",
      "ERROR with ./input/images/DJI_20240430112110_0125_D.JPG, make HASSELBLAD not compatible with this program!\n",
      "skipping ./input/images/DJI_20240430112110_0125_D.JPG\n"
     ]
    }
   ],
   "source": [
    "\n",
    "# Construct the command to run the script with all images\n",
    "command = f\"python ./src/obtain_location_from_center.py {dsm} \" + \" \".join(images)\n",
    "\n",
    "# Execute the command\n",
    "get_ipython().system(command)"
   ]
  },
  {
   "cell_type": "code",
   "execution_count": 4,
   "metadata": {},
   "outputs": [],
   "source": [
    "# Parse the .ATHENA files and convert to a csv\n",
    "data = []\n",
    "directory = './output'\n",
    "for filename in os.listdir(directory):\n",
    "    if filename.endswith(\".ATHENA\"):\n",
    "        clean_filename = filename.replace(\".ATHENA\", \"\")\n",
    "        file_path = os.path.join(directory, filename)\n",
    "        with open(file_path, 'r') as file:\n",
    "            lines = file.readlines()\n",
    "            lat = float(lines[0].strip())\n",
    "            lon = float(lines[1].strip())\n",
    "            alt = float(lines[2].strip())\n",
    "            data.append({'file_name': clean_filename, 'lat': lat, 'lon': lon, 'alt': alt})\n",
    "df = pd.DataFrame(data, columns=['file_name', 'lat', 'lon', 'alt'])\n",
    "# print(df)\n",
    "df.to_csv('./output/output.csv', index=False)"
   ]
  },
  {
   "cell_type": "code",
   "execution_count": 5,
   "metadata": {},
   "outputs": [],
   "source": [
    "# save as geopackage\n",
    "\n",
    "import pandas as pd\n",
    "import geopandas as gpd\n",
    "from shapely.geometry import Point\n",
    "\n",
    "# Load the CSV file\n",
    "df = pd.read_csv('./output/output.csv')\n",
    "\n",
    "# Create a GeoDataFrame\n",
    "gdf = gpd.GeoDataFrame(\n",
    "    df, \n",
    "    geometry=[Point(xy) for xy in zip(df.lon, df.lat)],\n",
    "    crs=\"EPSG:4326\"  # Assuming the coordinates are in WGS84; adjust if different\n",
    ")\n",
    "\n",
    "# Save to GeoPackage\n",
    "gdf.to_file(\"output/points.gpkg\", driver=\"GPKG\")"
   ]
  }
 ],
 "metadata": {
  "kernelspec": {
   "display_name": "Python 3",
   "language": "python",
   "name": "python3"
  },
  "language_info": {
   "codemirror_mode": {
    "name": "ipython",
    "version": 3
   },
   "file_extension": ".py",
   "mimetype": "text/x-python",
   "name": "python",
   "nbconvert_exporter": "python",
   "pygments_lexer": "ipython3",
   "version": "3.10.0"
  }
 },
 "nbformat": 4,
 "nbformat_minor": 2
}
